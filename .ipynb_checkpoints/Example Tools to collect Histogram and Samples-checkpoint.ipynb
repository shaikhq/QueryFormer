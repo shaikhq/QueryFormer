{
 "cells": [
  {
   "cell_type": "code",
   "execution_count": 2,
   "id": "7ce74085",
   "metadata": {},
   "outputs": [],
   "source": [
    "import pandas as pd\n",
    "import json\n",
    "import re\n",
    "import math\n",
    "import numpy as np\n",
    "from collections import defaultdict\n",
    "import psycopg2\n",
    "import time"
   ]
  },
  {
   "cell_type": "code",
   "execution_count": 20,
   "id": "512a87ff",
   "metadata": {},
   "outputs": [],
   "source": [
    "imdb_schema = {'title': ['t.id', 't.kind_id', 't.production_year'],\n",
    " 'movie_companies': ['mc.id',\n",
    "  'mc.company_id',\n",
    "  'mc.movie_id',\n",
    "  'mc.company_type_id'],\n",
    " 'cast_info': ['ci.id', 'ci.movie_id', 'ci.person_id', 'ci.role_id'],\n",
    " 'movie_info_idx': ['mi_idx.id', 'mi_idx.movie_id', 'mi_idx.info_type_id'],\n",
    " 'movie_info': ['mi.id', 'mi.movie_id', 'mi.info_type_id'],\n",
    " 'movie_keyword': ['mk.id', 'mk.movie_id', 'mk.keyword_id']}\n",
    "t2alias = {'title':'t','movie_companies':'mc','cast_info':'ci',\n",
    "          'movie_info_idx':'mi_idx','movie_info':'mi','movie_keyword':'mk'}"
   ]
  },
  {
   "cell_type": "code",
   "execution_count": 11,
   "id": "e546c4bc",
   "metadata": {},
   "outputs": [],
   "source": [
    "conm = psycopg2.connect(database=\"imdb\", user=\"postgres\", host=\"127.0.0.1\",password=\"admin\", port=\"5432\")\n",
    "conm.set_session(autocommit=True)\n",
    "cur = conm.cursor()"
   ]
  },
  {
   "cell_type": "code",
   "execution_count": 15,
   "id": "003360ad",
   "metadata": {},
   "outputs": [],
   "source": [
    "def to_vals(data_list):\n",
    "    for dat in data_list:\n",
    "        val = dat[0]\n",
    "        if val is not None: break\n",
    "    try:\n",
    "        float(val)\n",
    "        return np.array(data_list, dtype=float).squeeze()\n",
    "    except:\n",
    "#         print(val)\n",
    "        res = []\n",
    "        for dat in data_list:\n",
    "            try:\n",
    "                mi = dat[0].timestamp()\n",
    "            except:\n",
    "                mi = 0\n",
    "            res.append(mi)\n",
    "        return np.array(res)"
   ]
  },
  {
   "cell_type": "markdown",
   "id": "db5032a4",
   "metadata": {},
   "source": [
    "## Histogram"
   ]
  },
  {
   "cell_type": "code",
   "execution_count": 18,
   "id": "288e7a4d",
   "metadata": {},
   "outputs": [
    {
     "ename": "KeyError",
     "evalue": "'movie_keyword'",
     "output_type": "error",
     "traceback": [
      "\u001b[1;31m---------------------------------------------------------------------------\u001b[0m",
      "\u001b[1;31mKeyError\u001b[0m                                  Traceback (most recent call last)",
      "\u001b[1;32m<ipython-input-18-e887bcfef3e1>\u001b[0m in \u001b[0;36m<module>\u001b[1;34m\u001b[0m\n\u001b[0;32m      3\u001b[0m \u001b[1;32mfor\u001b[0m \u001b[0mtable\u001b[0m\u001b[1;33m,\u001b[0m\u001b[0mcolumns\u001b[0m \u001b[1;32min\u001b[0m \u001b[0mimdb_schema\u001b[0m\u001b[1;33m.\u001b[0m\u001b[0mitems\u001b[0m\u001b[1;33m(\u001b[0m\u001b[1;33m)\u001b[0m\u001b[1;33m:\u001b[0m\u001b[1;33m\u001b[0m\u001b[1;33m\u001b[0m\u001b[0m\n\u001b[0;32m      4\u001b[0m     \u001b[1;32mfor\u001b[0m \u001b[0mcolumn\u001b[0m \u001b[1;32min\u001b[0m \u001b[0mcolumns\u001b[0m\u001b[1;33m:\u001b[0m\u001b[1;33m\u001b[0m\u001b[1;33m\u001b[0m\u001b[0m\n\u001b[1;32m----> 5\u001b[1;33m         \u001b[0mcmd\u001b[0m \u001b[1;33m=\u001b[0m \u001b[1;34m'select {} from {} as {}'\u001b[0m\u001b[1;33m.\u001b[0m\u001b[0mformat\u001b[0m\u001b[1;33m(\u001b[0m\u001b[0mcolumn\u001b[0m\u001b[1;33m,\u001b[0m \u001b[0mtable\u001b[0m\u001b[1;33m,\u001b[0m\u001b[0mt2alias\u001b[0m\u001b[1;33m[\u001b[0m\u001b[0mtable\u001b[0m\u001b[1;33m]\u001b[0m\u001b[1;33m)\u001b[0m\u001b[1;33m\u001b[0m\u001b[1;33m\u001b[0m\u001b[0m\n\u001b[0m\u001b[0;32m      6\u001b[0m         \u001b[0mcur\u001b[0m\u001b[1;33m.\u001b[0m\u001b[0mexecute\u001b[0m\u001b[1;33m(\u001b[0m\u001b[0mcmd\u001b[0m\u001b[1;33m)\u001b[0m\u001b[1;33m\u001b[0m\u001b[1;33m\u001b[0m\u001b[0m\n\u001b[0;32m      7\u001b[0m         \u001b[0mcol\u001b[0m \u001b[1;33m=\u001b[0m \u001b[0mcur\u001b[0m\u001b[1;33m.\u001b[0m\u001b[0mfetchall\u001b[0m\u001b[1;33m(\u001b[0m\u001b[1;33m)\u001b[0m\u001b[1;33m\u001b[0m\u001b[1;33m\u001b[0m\u001b[0m\n",
      "\u001b[1;31mKeyError\u001b[0m: 'movie_keyword'"
     ]
    }
   ],
   "source": [
    "hist_file = pd.DataFrame(columns=['table','column','bins','table_column'])\n",
    "hist_file\n",
    "for table,columns in imdb_schema.items():\n",
    "    for column in columns:\n",
    "        cmd = 'select {} from {} as {}'.format(column, table,t2alias[table])\n",
    "        cur.execute(cmd)\n",
    "        col = cur.fetchall()\n",
    "        col_array = to_vals(col)\n",
    "        hists = np.nanpercentile(col_array, range(0,101,2), axis=0)\n",
    "        res_dict = {\n",
    "            'table':table,\n",
    "            'column':column,\n",
    "            'table_column': '.'.join((table, column)),\n",
    "            'bins':hists\n",
    "        }\n",
    "        hist_file = hist_file.append(res_dict,ignore_index=True)"
   ]
  },
  {
   "cell_type": "code",
   "execution_count": null,
   "id": "6fe0a2e6",
   "metadata": {},
   "outputs": [],
   "source": [
    "t2alias['movie_keyword']"
   ]
  },
  {
   "cell_type": "code",
   "execution_count": null,
   "id": "d99a8ab6",
   "metadata": {},
   "outputs": [],
   "source": []
  },
  {
   "cell_type": "code",
   "execution_count": 19,
   "id": "32cbc4c1",
   "metadata": {},
   "outputs": [
    {
     "data": {
      "text/plain": [
       "'select mi.info_type_id from movie_info as mi'"
      ]
     },
     "execution_count": 19,
     "metadata": {},
     "output_type": "execute_result"
    }
   ],
   "source": [
    "cmd"
   ]
  },
  {
   "cell_type": "code",
   "execution_count": null,
   "id": "e13be325",
   "metadata": {},
   "outputs": [],
   "source": []
  },
  {
   "cell_type": "code",
   "execution_count": null,
   "id": "668894cb",
   "metadata": {},
   "outputs": [],
   "source": []
  },
  {
   "cell_type": "markdown",
   "id": "651d1a1a",
   "metadata": {},
   "source": [
    "## Sample\n",
    "### Steps\n",
    "\n",
    "1. duplicate database schema from full db\n",
    "    > pg_dump imdb -s -O > imdb_schema.sql\n",
    "2. create small base by in psql\n",
    "    > create database imdb_sample\n",
    "3. create schema using imdb_schema.sql\n",
    "3. load the sample data using pandas and sqlalchemy\n",
    "4. construct sub-queries needed"
   ]
  }
 ],
 "metadata": {
  "kernelspec": {
   "display_name": "Python 3",
   "language": "python",
   "name": "python3"
  },
  "language_info": {
   "codemirror_mode": {
    "name": "ipython",
    "version": 3
   },
   "file_extension": ".py",
   "mimetype": "text/x-python",
   "name": "python",
   "nbconvert_exporter": "python",
   "pygments_lexer": "ipython3",
   "version": "3.7.10"
  }
 },
 "nbformat": 4,
 "nbformat_minor": 5
}
